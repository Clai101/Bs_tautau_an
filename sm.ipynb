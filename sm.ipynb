{
 "cells": [
  {
   "cell_type": "code",
   "execution_count": 15,
   "id": "3b6788cf",
   "metadata": {},
   "outputs": [],
   "source": [
    "import pandas as pd\n",
    "import numpy as np\n",
    "import pyarrow as pa\n",
    "import pyarrow.dataset as dsF\n",
    "import pyarrow.compute as pc\n",
    "from pathlib import Path\n",
    "from concurrent.futures import ThreadPoolExecutor, as_completed\n",
    "from multiprocessing import Pool\n",
    "import json\n",
    "from source import *\n",
    "import matplotlib.pyplot as plt\n",
    "import pyarrow.parquet as pq\n",
    "\n",
    "import scienceplots\n",
    "\n",
    "plt.style.use(['science','ieee', 'grid'])"
   ]
  },
  {
   "cell_type": "code",
   "execution_count": null,
   "id": "abd87da3",
   "metadata": {},
   "outputs": [],
   "source": []
  },
  {
   "cell_type": "code",
   "execution_count": 19,
   "id": "1e3409fc",
   "metadata": {},
   "outputs": [],
   "source": [
    "import numpy as np\n",
    "from typing import Union, Callable\n",
    "\n",
    "def normalization(values: Union[np.ndarray, Callable],\n",
    "                  a: Union[list, int],\n",
    "                  b: Union[list, int],\n",
    "                  func: bool = False,\n",
    "                  n_points: int = 500):\n",
    "    from numpy import trapz\n",
    "    \n",
    "    # --- Одномерный случай ---\n",
    "    if isinstance(a, int) and isinstance(b, int):\n",
    "        if func:\n",
    "            x = np.linspace(a, b, n_points)\n",
    "            y = values(x)  # values — функция\n",
    "        else:\n",
    "            x = np.linspace(a, b, len(values))\n",
    "            y = values\n",
    "        return trapz(y, x=x)\n",
    "    \n",
    "    # --- Многомерный случай ---\n",
    "    if isinstance(a, list) and isinstance(b, list):\n",
    "        if func:\n",
    "            grids = [np.linspace(a[i], b[i], n_points) for i in range(len(a))]\n",
    "            mesh = np.meshgrid(*grids, indexing='ij')\n",
    "            vals = values(*mesh)\n",
    "        else:\n",
    "            vals = values\n",
    "        \n",
    "        summ = vals\n",
    "        for dim in range(len(a)):\n",
    "            x_dim = np.linspace(a[dim], b[dim], summ.shape[0])\n",
    "            summ = trapz(summ, x=x_dim, axis=0)\n",
    "        return summ\n",
    "    \n",
    "    raise ValueError(\"Invalid argument types\")\n"
   ]
  },
  {
   "cell_type": "code",
   "execution_count": 27,
   "id": "b9e9128c",
   "metadata": {},
   "outputs": [],
   "source": [
    "import numpy as np\n",
    "from typing import Union, Callable, List\n",
    "\n",
    "def normalization(values: Union[np.ndarray, Callable],\n",
    "                  a: Union[float, List[float]],\n",
    "                  b: Union[float, List[float]],\n",
    "                  func: bool = False,\n",
    "                  n_points: int = 200):\n",
    "    from numpy import trapz\n",
    "\n",
    "    # Приводим к списку, даже если это одно число\n",
    "    if isinstance(a, (int, float)) and isinstance(b, (int, float)):\n",
    "        a = [a]\n",
    "        b = [b]\n",
    "\n",
    "    dims = len(a)\n",
    "\n",
    "    # Если передана функция — строим сетку\n",
    "    if func:\n",
    "        grids = [np.linspace(a[i], b[i], n_points) for i in range(dims)]\n",
    "        mesh = np.meshgrid(*grids, indexing='ij')\n",
    "        coords = np.stack([m.ravel() for m in mesh], axis=-1)  # (N, dims)\n",
    "        vals = values(coords).reshape([n_points]*dims)\n",
    "    else:\n",
    "        vals = values\n",
    "\n",
    "    summ = vals\n",
    "    for dim in range(dims):\n",
    "        x_dim = np.linspace(a[dim], b[dim], summ.shape[0])\n",
    "        summ = trapz(summ, x=x_dim, axis=0)\n",
    "    return summ\n"
   ]
  },
  {
   "cell_type": "code",
   "execution_count": 29,
   "id": "81a77d19",
   "metadata": {},
   "outputs": [
    {
     "name": "stdout",
     "output_type": "stream",
     "text": [
      "2.9999999999999996\n",
      "2.6666720213975044\n"
     ]
    },
    {
     "name": "stderr",
     "output_type": "stream",
     "text": [
      "C:\\Users\\marc\\AppData\\Local\\Temp\\ipykernel_7592\\1369914790.py:30: DeprecationWarning: `trapz` is deprecated. Use `trapezoid` instead, or one of the numerical integration functions in `scipy.integrate`.\n",
      "  summ = trapz(summ, x=x_dim, axis=0)\n"
     ]
    }
   ],
   "source": [
    "# f(x, y) = x + y на [0,1] × [0,2], интеграл = 3\n",
    "def f(coords):\n",
    "    x = coords[:, 0]\n",
    "    y = coords[:, 1]\n",
    "    return x + y\n",
    "\n",
    "print(normalization(f, [0, 0], [1, 2], func=True, n_points=300))  # ≈ 3.0\n",
    "\n",
    "# f(x) = x^2 на [0,2], интеграл = 8/3\n",
    "def f1(coords):\n",
    "    x = coords[:, 0]\n",
    "    return x**2\n",
    "\n",
    "print(normalization(f1, [0], [2], func=True, n_points=500))  # ≈ 2.6667\n"
   ]
  },
  {
   "cell_type": "code",
   "execution_count": null,
   "id": "ebacfc5b",
   "metadata": {},
   "outputs": [],
   "source": [
    "wbin_x, a_x, b_x = 0.1, 0, 1.2\n",
    "wbin_y, a_y, b_y = 0.01, 5.25, 5.5\n",
    "bins_x = np.linspace(a_x, b_x, int((b_x - a_x) // wbin_x)+2)\n",
    "bins_y = np.linspace(a_y, b_y, int((b_y - a_y) // wbin_y)+2)\n",
    "\n",
    "A_list = []\n",
    "A_errors = []\n",
    "plt_s = (12/1.7, 6/1.7)\n",
    "pull_s = (12/6, 6/6)\n",
    "\n",
    "n_toys = 100\n",
    "fit_results = []\n",
    "\n",
    "for i in range(n_toys):\n",
    "    toy_sample = gen_toy_nd(\n",
    "        toy_pdf,\n",
    "        bounds=[[0, 1.2], [5.25, 5.5]],\n",
    "        size=int((N1+N2)/6),\n",
    "        grid_points=100\n",
    "    )\n",
    "    rez, norm, errors = max_lik_ext(\n",
    "        f_fit,\n",
    "        toy_sample.T,\n",
    "        {\"w0\": 0.3, \"w1\": 0.5},\n",
    "        a = [0.001, 5.25],\n",
    "        b = [1.2, 5.5],\n",
    "        err_need=True\n",
    "    )\n",
    "\n",
    "    # Пересчёт в физические A0, A1, A2\n",
    "    A0 = rez[\"w0\"]\n",
    "    A1 = (1 - rez[\"w0\"]) * rez[\"w1\"]\n",
    "    A2 = 1 - A0 - A1\n",
    "    \n",
    "    fit_results.append(rez)\n",
    "    A_list.append([A0, A1])\n",
    "    # Ошибки пересчитываются через производные (пока оставим как для w0, w1)\n",
    "    A_errors.append([errors.get(\"w0\", np.nan), errors.get(\"w1\", np.nan)])\n",
    "\n",
    "    # --- рисование только первых 2 игрушек ---\n",
    "    if i >= 2:\n",
    "        continue\n",
    "\n",
    "    fig, axs = plt.subplots(1, 2, figsize=(2*plt_s[0], plt_s[1]*1.25))\n",
    "    x_centers = 0.5 * (bins_x[:-1] + bins_x[1:])\n",
    "    y_centers = 0.5 * (bins_y[:-1] + bins_y[1:])\n",
    "    X, Y = np.meshgrid(x_centers, y_centers, indexing='ij')\n",
    "\n",
    "    counts, _ = np.histogram(toy_sample.T[0], bins=bins_x)\n",
    "    sources = f_fit([X, Y], **rez, stak=True)\n",
    "    fit_proj_x = [np.trapz(src, y_centers, axis=1) * wbin_x * norm for src in sources]\n",
    "\n",
    "    N_signal = A0 * norm\n",
    "    N_bsb = A1 * norm\n",
    "    N_ubs = A2 * norm\n",
    "\n",
    "    labels = [\n",
    "        rf\"$\\mathrm{{Signal}}\\ (N={N_signal:.0f})$\",\n",
    "        rf\"$B_s \\to D(\\ell \\nu)\\ell \\nu\\ (N={N_bsb:.0f})$\",\n",
    "        rf\"$\\mathrm{{FEI miss ID}}\\ (N={N_ubs:.0f})$\"\n",
    "    ]\n",
    "\n",
    "    ax = axs[0]\n",
    "    ax.errorbar(x_centers, counts, yerr=np.sqrt(counts), fmt='o', label=\"Toy Data\")\n",
    "    ax.hist([x_centers]*len(fit_proj_x), bins=bins_x, weights=fit_proj_x,\n",
    "            stacked=True, alpha=0.55, edgecolor=\"black\", linewidth=1.5, label=labels)\n",
    "    ax.set_ylabel(fr'$\\mathrm{{Events}}\\,/\\,{wbin_x}\\,\\mathrm{{GeV}}$')\n",
    "    ax.set_xlabel(r'$E_{\\gamma}^\\mathrm{ROE}\\ \\mathrm{GeV}$')\n",
    "    ax.legend(loc='upper right', bbox_to_anchor=(1.1, 1.1), framealpha=0.85)\n",
    "\n",
    "    counts, _ = np.histogram(toy_sample.T[1], bins=bins_y)\n",
    "    fit_proj_y = [np.trapz(src, x_centers, axis=0) * wbin_y * np.sum(counts) for src in sources]\n",
    "\n",
    "    ax = axs[1]\n",
    "    ax.errorbar(y_centers, counts, yerr=np.sqrt(counts), fmt='o', label=\"Toy Data\")\n",
    "    ax.hist([y_centers]*len(fit_proj_y), bins=bins_y, weights=fit_proj_y,\n",
    "            stacked=True, alpha=0.55, edgecolor=\"black\", linewidth=1.5, label=labels)\n",
    "    ax.set_ylabel(fr'$\\mathrm{{Events}}\\,/\\,{wbin_y}\\,\\mathrm{{GeV}}$')\n",
    "    ax.set_xlabel(r'$M_{B_s^0}\\ \\mathrm{GeV}$')\n",
    "    ax.legend(loc='upper right', bbox_to_anchor=(1.1, 1.1), framealpha=0.85)\n",
    "\n",
    "    plt.tight_layout()\n",
    "    plt.savefig(f\"output/toy_mc_fit_{i}.pdf\")\n",
    "    plt.show()"
   ]
  },
  {
   "cell_type": "code",
   "execution_count": null,
   "id": "60a2310d",
   "metadata": {},
   "outputs": [],
   "source": [
    "# --- анализ pull ---\n",
    "A_array = np.array(A_list)\n",
    "A_errors = np.array(A_errors)\n",
    "bins = np.linspace(-5, 5, 16)\n",
    "\n",
    "A0_true = 0\n",
    "A1_true = N2/(N1+N2)\n",
    "A2_true = N1/(N1+N2)\n",
    "\n",
    "delta_signal = (A_array[:, 0] - A0_true) / A_errors[:, 0]\n",
    "delta_bsb = (A_array[:, 1] - A1_true) / A_errors[:, 1]\n",
    "delta_ubs = ((1 - A_array[:, 0] - A_array[:, 1]) - A2_true) / (A_errors[:, 0] + A_errors[:, 1])\n",
    "\n",
    "counts_signal, bin_edges = np.histogram(delta_signal, bins=bins, density=True)\n",
    "counts_bsb, _ = np.histogram(delta_bsb, bins=bins, density=True)\n",
    "counts_ubs, _ = np.histogram(delta_ubs, bins=bins, density=True)\n",
    "\n",
    "bin_centers = 0.5 * (bin_edges[:-1] + bin_edges[1:])\n",
    "\n",
    "plt.bar(bin_centers, counts_signal, width=np.diff(bins), alpha=0.65, label=r\"$\\mathrm{Imp \\ signal}$\", align='center')\n",
    "plt.bar(bin_centers, counts_bsb, width=np.diff(bins), label=r\"$\\mathrm{Imp \\ B_s \\to D(\\ell \\nu)\\ell \\nu}$\",\n",
    "        align='center', facecolor='none', edgecolor=colors[1], hatch='//', linewidth=3)\n",
    "plt.bar(bin_centers, counts_ubs, width=np.diff(bins), label=r\"$\\mathrm{Imp \\ FEI \\ miss \\ ID}$\",\n",
    "        align='center', facecolor='none', edgecolor=colors[2], hatch='\\\\\\\\', linewidth=3)\n",
    "\n",
    "plt.xlabel(r\"$\\mathrm{Pull}$\")\n",
    "plt.ylabel(r\"$\\mathrm{Entries}$\")\n",
    "plt.legend()\n",
    "plt.tight_layout()\n",
    "plt.savefig(f\"output/toy_err.pdf\")\n",
    "plt.show()"
   ]
  },
  {
   "cell_type": "code",
   "execution_count": 30,
   "id": "f3c2aebd",
   "metadata": {},
   "outputs": [
    {
     "name": "stdout",
     "output_type": "stream",
     "text": [
      "Expected: 1.0, np.trapz: 1.0\n",
      "Function: 1.0\n",
      "Expected: 0.5, np.trapz: 0.5\n",
      "Function: 0.5\n",
      "Expected: ~2.6667, np.trapz: 2.6667003358501047\n",
      "Function: 2.6667003358501047\n"
     ]
    },
    {
     "name": "stderr",
     "output_type": "stream",
     "text": [
      "C:\\Users\\marc\\AppData\\Local\\Temp\\ipykernel_7592\\1351524809.py:5: DeprecationWarning: `trapz` is deprecated. Use `trapezoid` instead, or one of the numerical integration functions in `scipy.integrate`.\n",
      "  print(\"Expected: 1.0, np.trapz:\", np.trapz(y, x))\n",
      "C:\\Users\\marc\\AppData\\Local\\Temp\\ipykernel_7592\\1369914790.py:30: DeprecationWarning: `trapz` is deprecated. Use `trapezoid` instead, or one of the numerical integration functions in `scipy.integrate`.\n",
      "  summ = trapz(summ, x=x_dim, axis=0)\n",
      "C:\\Users\\marc\\AppData\\Local\\Temp\\ipykernel_7592\\1351524809.py:11: DeprecationWarning: `trapz` is deprecated. Use `trapezoid` instead, or one of the numerical integration functions in `scipy.integrate`.\n",
      "  print(\"Expected: 0.5, np.trapz:\", np.trapz(y, x))\n",
      "C:\\Users\\marc\\AppData\\Local\\Temp\\ipykernel_7592\\1351524809.py:17: DeprecationWarning: `trapz` is deprecated. Use `trapezoid` instead, or one of the numerical integration functions in `scipy.integrate`.\n",
      "  print(\"Expected: ~2.6667, np.trapz:\", np.trapz(y, x))\n"
     ]
    }
   ],
   "source": [
    "# --- Проверки ---\n",
    "# Пример 1: интеграл от константы 1 на [0,1] = 1\n",
    "x = np.linspace(0, 1, 100)\n",
    "y = np.ones_like(x)\n",
    "print(\"Expected: 1.0, np.trapz:\", np.trapz(y, x))\n",
    "print(\"Function:\", normalization(y, 0, 1))\n",
    "\n",
    "# Пример 2: интеграл от x на [0,1] = 0.5\n",
    "x = np.linspace(0, 1, 100)\n",
    "y = x\n",
    "print(\"Expected: 0.5, np.trapz:\", np.trapz(y, x))\n",
    "print(\"Function:\", normalization(y, 0, 1))\n",
    "\n",
    "# Пример 3: интеграл от x^2 на [0,2] = 8/3 ≈ 2.666...\n",
    "x = np.linspace(0, 2, 200)\n",
    "y = x**2\n",
    "print(\"Expected: ~2.6667, np.trapz:\", np.trapz(y, x))\n",
    "print(\"Function:\", normalization(y, 0, 2))"
   ]
  },
  {
   "cell_type": "code",
   "execution_count": 22,
   "id": "c207f2ca",
   "metadata": {},
   "outputs": [
    {
     "name": "stdout",
     "output_type": "stream",
     "text": [
      "Численный интеграл: 3.0000000000000004\n",
      "Ожидаемое значение: 3.0\n"
     ]
    },
    {
     "name": "stderr",
     "output_type": "stream",
     "text": [
      "C:\\Users\\marc\\AppData\\Local\\Temp\\ipykernel_7592\\1476186443.py:33: DeprecationWarning: `trapz` is deprecated. Use `trapezoid` instead, or one of the numerical integration functions in `scipy.integrate`.\n",
      "  summ = trapz(summ, x=x_dim, axis=0)\n"
     ]
    }
   ],
   "source": [
    "x = np.linspace(0, 1, 50)\n",
    "y = np.linspace(0, 2, 80)\n",
    "X, Y = np.meshgrid(x, y, indexing='ij')\n",
    "values = X + Y  # f(x,y) = x + y\n",
    "\n",
    "result = normalization(values, [0, 0], [1, 2])\n",
    "print(\"Численный интеграл:\", result)\n",
    "print(\"Ожидаемое значение:\", 3.0)"
   ]
  },
  {
   "cell_type": "code",
   "execution_count": 23,
   "id": "d7e73d92",
   "metadata": {},
   "outputs": [
    {
     "name": "stdout",
     "output_type": "stream",
     "text": [
      "1.0\n",
      "2.6666720213975044\n",
      "3.0\n"
     ]
    },
    {
     "name": "stderr",
     "output_type": "stream",
     "text": [
      "C:\\Users\\marc\\AppData\\Local\\Temp\\ipykernel_7592\\1476186443.py:19: DeprecationWarning: `trapz` is deprecated. Use `trapezoid` instead, or one of the numerical integration functions in `scipy.integrate`.\n",
      "  return trapz(y, x=x)\n",
      "C:\\Users\\marc\\AppData\\Local\\Temp\\ipykernel_7592\\1476186443.py:33: DeprecationWarning: `trapz` is deprecated. Use `trapezoid` instead, or one of the numerical integration functions in `scipy.integrate`.\n",
      "  summ = trapz(summ, x=x_dim, axis=0)\n"
     ]
    }
   ],
   "source": [
    "# 1D массив\n",
    "x = np.linspace(0, 1, 100)\n",
    "y = np.ones_like(x)\n",
    "print(normalization(y, 0, 1))  # ≈ 1\n",
    "\n",
    "# 1D функция\n",
    "print(normalization(lambda t: t**2, 0, 2, func=True))  # ≈ 8/3\n",
    "\n",
    "# 2D функция f(x, y) = x + y\n",
    "res = normalization(lambda X, Y: X + Y, [0, 0], [1, 2], func=True)\n",
    "print(res)  # ≈ 3\n"
   ]
  },
  {
   "cell_type": "code",
   "execution_count": null,
   "id": "37696ec3",
   "metadata": {},
   "outputs": [],
   "source": []
  }
 ],
 "metadata": {
  "kernelspec": {
   "display_name": ".venv (3.13.3)",
   "language": "python",
   "name": "python3"
  },
  "language_info": {
   "codemirror_mode": {
    "name": "ipython",
    "version": 3
   },
   "file_extension": ".py",
   "mimetype": "text/x-python",
   "name": "python",
   "nbconvert_exporter": "python",
   "pygments_lexer": "ipython3",
   "version": "3.13.3"
  }
 },
 "nbformat": 4,
 "nbformat_minor": 5
}
