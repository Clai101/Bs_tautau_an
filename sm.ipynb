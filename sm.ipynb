{
 "cells": [
  {
   "cell_type": "code",
   "execution_count": null,
   "id": "63caef37",
   "metadata": {},
   "outputs": [],
   "source": [
    "def compute_2d_pdf_from_data(data: np.ndarray, \n",
    "                              x_bounds: tuple, \n",
    "                              y_bounds: tuple, \n",
    "                              num_bins: int = 100) -> tuple[np.ndarray, np.ndarray, np.ndarray]:\n",
    "    \"\"\"\n",
    "    Вычисляет сглаженную PDF из двумерного массива точек с сохранением сингулярностей\n",
    "    через сглаживание CDF и последующее численное дифференцирование.\n",
    "    \"\"\"\n",
    "    # Сетка\n",
    "    x = np.linspace(*x_bounds, num_bins)\n",
    "    y = np.linspace(*y_bounds, num_bins)\n",
    "    dx = x[1] - x[0]\n",
    "    dy = y[1] - y[0]\n",
    "    X, Y = np.meshgrid(x, y, indexing='ij')\n",
    "\n",
    "    # Кумулятивная вероятность: по всем точкам ниже\n",
    "    cdf_grid = np.zeros_like(X)\n",
    "    for i in range(num_bins):\n",
    "        for j in range(num_bins):\n",
    "            cdf_grid[i, j] = np.mean((data[:, 0] <= x[i]) & (data[:, 1] <= y[j]))\n",
    "\n",
    "    # Сглаживание с сохранением краёв\n",
    "    cdf_smooth = denoise_bilateral(cdf_grid, sigma_color=0.05, sigma_spatial=3, multichannel=False)\n",
    "\n",
    "    # Численная производная: приближённая PDF\n",
    "    pdf_estimate = np.gradient(np.gradient(cdf_smooth, dx, axis=0), dy, axis=1)\n",
    "\n",
    "    # Убираем отрицательные шумы\n",
    "    pdf_clipped = np.clip(pdf_estimate, 0, None)\n",
    "\n",
    "    # Нормировка\n",
    "    normalization = np.sum(pdf_clipped) * dx * dy\n",
    "    pdf_clipped /= normalization\n",
    "\n",
    "    return X, Y, pdf_clipped\n"
   ]
  },
  {
   "cell_type": "code",
   "execution_count": null,
   "id": "3e1e5083",
   "metadata": {},
   "outputs": [],
   "source": [
    "\n",
    "def get_pdf(data, a, b, num_points1=1000, num_points2=200):\n",
    "    from scipy.interpolate import Akima1DInterpolator\n",
    "    from scipy.integrate import quad\n",
    "\n",
    "    data_sorted = np.sort(data[(data >= a) & (data <= b)])\n",
    "\n",
    "    xs_cdf = np.linspace(a, b, num_points1)\n",
    "    cdf = np.searchsorted(data_sorted, xs_cdf, side='right') / len(data_sorted)\n",
    "\n",
    "    cdf_interp = Akima1DInterpolator(xs_cdf, cdf)\n",
    "\n",
    "    xs_pdf = np.linspace(a, b, num_points2)\n",
    "    dcdf = np.gradient(cdf_interp(xs_pdf), xs_pdf)\n",
    "    pdf_vals = np.clip(dcdf, 0, None)\n",
    "    dx = np.diff(xs_pdf)\n",
    "    dx = np.append(dx, dx[-1])\n",
    "    integral = np.sum(pdf_vals * dx)\n",
    "    pdf_vals /= integral\n",
    "\n",
    "    pdf_function_raw = Akima1DInterpolator(xs_pdf, pdf_vals)\n",
    "    integral_func, _ = quad(pdf_function_raw, a, b, limit=200)\n",
    "    pdf_function = lambda x: np.clip(pdf_function_raw(x), 0, None) / integral_func\n",
    "\n",
    "    return xs_pdf, pdf_vals, pdf_function\n"
   ]
  }
 ],
 "metadata": {
  "kernelspec": {
   "display_name": ".venv",
   "language": "python",
   "name": "python3"
  },
  "language_info": {
   "codemirror_mode": {
    "name": "ipython",
    "version": 3
   },
   "file_extension": ".py",
   "mimetype": "text/x-python",
   "name": "python",
   "nbconvert_exporter": "python",
   "pygments_lexer": "ipython3",
   "version": "3.12.7"
  }
 },
 "nbformat": 4,
 "nbformat_minor": 5
}
