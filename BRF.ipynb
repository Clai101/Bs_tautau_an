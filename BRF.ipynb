{
 "cells": [
  {
   "cell_type": "code",
   "execution_count": 2,
   "id": "dcc19a76",
   "metadata": {},
   "outputs": [],
   "source": [
    "import uproot\n",
    "import pandas as pd\n",
    "import numpy as np\n",
    "import json\n",
    "import dill\n",
    "from numpy import  log, sqrt, exp, pi, e\n",
    "import multiprocessing\n",
    "from concurrent.futures import ThreadPoolExecutor, as_completed\n",
    "import os\n",
    "from source import *\n",
    "from numba import njit\n",
    "import matplotlib.pyplot as plt\n",
    "plt.rcParams['text.usetex'] = True\n",
    "import pyarrow.dataset as ds\n",
    "import pyarrow.compute as pc\n",
    "import pyarrow.parquet as pq\n",
    "import pyarrow as pa\n"
   ]
  },
  {
   "cell_type": "code",
   "execution_count": 3,
   "id": "eef9796c",
   "metadata": {},
   "outputs": [],
   "source": [
    "chunk_size = 100000\n",
    "sample_size = 1_000_000\n",
    "dataset2 = ds.dataset(\"Gen_MC/merged.parquet\", format=\"parquet\")\n",
    "dataset1 = ds.dataset(\"MC_sig_root/Bs_2tau_sig_MC.parquet\", format=\"parquet\")\n",
    "\n"
   ]
  },
  {
   "cell_type": "code",
   "execution_count": 4,
   "id": "001a9505",
   "metadata": {},
   "outputs": [],
   "source": [
    "\n",
    "\n",
    "scanner = dataset1.scanner(batch_size=1_000_000)\n",
    "\n",
    "for batch in scanner.to_batches():\n",
    "    table1 = pa.Table.from_batches([batch]).to_pandas()\n",
    "\n",
    "    break\n",
    "table1.shape\n",
    "\n",
    "scanner = dataset2.scanner(batch_size=1_000_000)\n",
    "\n",
    "table2 = pd.DataFrame()\n",
    "\n",
    "for batch in scanner.to_batches():\n",
    "    table2 = pd.concat([pa.Table.from_batches([batch]).to_pandas(), table2])\n",
    "\n",
    "    if table2.shape[0] > sample_size:\n",
    "        break\n",
    "table2 = table2.sample(sample_size)"
   ]
  },
  {
   "cell_type": "code",
   "execution_count": 5,
   "id": "2d49c112",
   "metadata": {},
   "outputs": [
    {
     "name": "stdout",
     "output_type": "stream",
     "text": [
      "(1000000, 29) (1000000, 20)\n"
     ]
    }
   ],
   "source": [
    "print(table1.shape, table2.shape)\n"
   ]
  },
  {
   "cell_type": "code",
   "execution_count": 6,
   "id": "54d5b450",
   "metadata": {},
   "outputs": [],
   "source": [
    "int8_cols = [\n",
    "    \"idec0\", \"idec1\", \"N_KL\", \"is0\"\n",
    "]\n",
    "\n",
    "to_drop = [\n",
    "    \"lost_gamma_0\", \"lost_pi_0\", \"lost_K_0\",\n",
    "    \"lost_gamma_1\", \"lost_pi_1\", \"lost_K_1\", \"p_td\",\n",
    "    \"Miss_id_0\", \"Miss_id_1\", \"N_tracks_in_ROE\", \"lost_nu_0\", \"lost_nu_1\", \"__candidate__\", \"__ncandidates__\", \"__weight__\"\n",
    "]\n",
    "\n",
    "bool_cols = [\"Miss_id_0\", \"Miss_id_1\"]\n",
    "\n",
    "int32_cols = [\"__experiment__\", \"__run__\", \"__event__\"]\n",
    "\n",
    "float32_cols = [\n",
    "    \"missedE\", \"M0\", \"p0\", \"recM2\", \"totalEnergyMC\", \"E_gamma_in_ROE\", \"Bs_lik\"\n",
    "]\n",
    "\n",
    "decay_mode_to_nu = {\n",
    "    0: 2,  # e+ nu_e nu_tau\n",
    "    1: 2,  # mu+ nu_mu nu_tau\n",
    "    2: 1,  # pi+ nu_tau\n",
    "    3: 1,  # rho+ (pi+ pi0) nu_tau\n",
    "    4: 1,  # pi+ pi+ pi- nu_tau\n",
    "    5: 1\n",
    "}\n",
    "decay_mode_to_gamma = {\n",
    "    0: 0,  # e+ nu_e nu_tau\n",
    "    1: 0,  # mu+ nu_mu nu_tau\n",
    "    2: 0,  # pi+ nu_tau\n",
    "    3: 0,  # rho+ (pi+ pi0) nu_tau\n",
    "    4: 0,  # pi+ pi+ pi- nu_tau\n",
    "    5: 1   # rho+ (pi+ gamma) nu_tau\n",
    "}\n",
    "\n",
    "def safe_downcast(col, target_type):\n",
    "    try:\n",
    "        return pd.to_numeric(col, downcast=target_type)\n",
    "    except Exception as e:\n",
    "        print(f\"Ошибка при преобразовании {col.name} → {target_type}: {e}\")\n",
    "        return col\n",
    "\n",
    "for idx in [0, 1]:\n",
    "    table1[\"correct_nu_0\"] = (table1['lost_nu_0'] == table1['idec0'].map(decay_mode_to_nu))\n",
    "    table1[\"correct_nu_1\"] = (table1['lost_nu_1'] == table1['idec1'].map(decay_mode_to_nu))\n",
    "    table1[\"correct_gamma_0\"] = (table1['lost_gamma_0'] == table1['idec0'].map(decay_mode_to_gamma))\n",
    "    table1[\"correct_gamma_1\"] = (table1['lost_gamma_1'] == table1['idec1'].map(decay_mode_to_gamma))\n",
    "    table1[\"lost_0\"] = ((table1['lost_K_0'] == 0) & (table1['lost_pi_0'] == 0))\n",
    "    table1[\"lost_1\"] = ((table1['lost_K_1'] == 0) & (table1['lost_pi_1'] == 0))\n",
    "\n",
    "for col in table1.columns:\n",
    "    if col in bool_cols:\n",
    "        table1[col] = table1[col].astype(\"boolean\")\n",
    "    if col in int8_cols:\n",
    "        table1[col] = safe_downcast(table1[col], \"unsigned\")\n",
    "    elif col in int32_cols:\n",
    "        table1[col] = safe_downcast(table1[col], \"unsigned\")\n",
    "    elif col in float32_cols:\n",
    "        table1[col] = safe_downcast(table1[col], \"float\")\n",
    "    elif col in to_drop:\n",
    "        table1.drop(columns=col, inplace=True)\n",
    "\n"
   ]
  },
  {
   "cell_type": "code",
   "execution_count": 7,
   "id": "35c8e93a",
   "metadata": {},
   "outputs": [
    {
     "name": "stdout",
     "output_type": "stream",
     "text": [
      "(1000000, 20) (1000000, 20)\n"
     ]
    }
   ],
   "source": [
    "print(table1.shape, table2.shape)\n"
   ]
  },
  {
   "cell_type": "code",
   "execution_count": 8,
   "id": "0f97b78c",
   "metadata": {},
   "outputs": [],
   "source": [
    "frames = [table1, table2]\n",
    "a = pd.concat(frames)\n"
   ]
  },
  {
   "cell_type": "code",
   "execution_count": 10,
   "id": "d8346cde",
   "metadata": {},
   "outputs": [],
   "source": [
    "a.drop(columns=\"source_file\", inplace=True)"
   ]
  },
  {
   "cell_type": "code",
   "execution_count": 11,
   "id": "b0388538",
   "metadata": {},
   "outputs": [],
   "source": [
    "a.to_parquet(\"data.parquet\")"
   ]
  }
 ],
 "metadata": {
  "kernelspec": {
   "display_name": ".venv",
   "language": "python",
   "name": "python3"
  },
  "language_info": {
   "codemirror_mode": {
    "name": "ipython",
    "version": 3
   },
   "file_extension": ".py",
   "mimetype": "text/x-python",
   "name": "python",
   "nbconvert_exporter": "python",
   "pygments_lexer": "ipython3",
   "version": "3.12.7"
  }
 },
 "nbformat": 4,
 "nbformat_minor": 5
}
