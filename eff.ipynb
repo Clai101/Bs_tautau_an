{
 "cells": [
  {
   "cell_type": "code",
   "execution_count": 17,
   "id": "a99008b9",
   "metadata": {},
   "outputs": [],
   "source": [
    "import pandas as pd\n",
    "import numpy as np\n",
    "from pyarrow import Table\n",
    "import pyarrow.dataset as ds\n",
    "import pyarrow.compute as pc\n",
    "import pyarrow.parquet as pq\n",
    "import matplotlib.pyplot as plt\n",
    "from source import *\n",
    "from pathlib import Path\n",
    "\n",
    "import scienceplots\n",
    "\n",
    "plt.style.use(['science','ieee', 'grid'])\n",
    "prop_cycle = plt.rcParams['axes.prop_cycle']\n",
    "colors = prop_cycle.by_key()['color']"
   ]
  },
  {
   "cell_type": "code",
   "execution_count": 18,
   "id": "8b2647d4",
   "metadata": {},
   "outputs": [],
   "source": [
    "eff = ds.dataset(list(Path(f\"eff/\").glob(\"*.parquet\")), format=\"parquet\")"
   ]
  },
  {
   "cell_type": "code",
   "execution_count": 19,
   "id": "211077a7",
   "metadata": {},
   "outputs": [],
   "source": [
    "sig = ds.dataset(list(Path(f\"new_sig/\").glob(\"*.parquet\")), format=\"parquet\")"
   ]
  },
  {
   "cell_type": "code",
   "execution_count": 20,
   "id": "51ada2e8",
   "metadata": {},
   "outputs": [
    {
     "data": {
      "text/plain": [
       "Index(['__experiment__', '__run__', '__event__', '__production__', 'pcm',\n",
       "       'ecm', 'missedE', 'recM2_Ups', 'cmpmiss', 'cmthetamiss', 'fox_ups',\n",
       "       'asymmetry', 'pBtag', 'theta_Btag', 'MBtag', 'rec_theta_Btag', 'idec0',\n",
       "       'idec1', 'is0', 'N_KL', 'Miss_id_0', 'Miss_id_1', 'Bs_lik', 'N_KS',\n",
       "       'theta_tau_0', 'p_tau_0', 'theta_tau_1', 'p_tau_1', 'p_tau_0_tagcm',\n",
       "       'p_tau_1_tagcm', 'ang_taus', 'ang_taus_tagcm', 'ang_tau0_pmiss',\n",
       "       'ang_tau1_pmiss', 'ang_tau1_ROE', 'ang_tau0_ROE', 'tau_d_0_0',\n",
       "       'tau_d_1_0', 'tau_last_z_0', 'tau_last_r_0', 'tau_last_z_1',\n",
       "       'tau_last_r_1', 'Istau0', 'Istau1', 'totalEnergyMC', 'E_gamma_in_ROE',\n",
       "       'correct_nu_0', 'correct_nu_1', 'correct_gamma_0', 'correct_gamma_1',\n",
       "       'lost_0', 'lost_1', 'PID_self_vs_0_tau0', 'PID_self_vs_1_tau0',\n",
       "       'PID_self_vs_2_tau0', 'PID_self_vs_4_tau0', 'PID_self_vs_0_tau1',\n",
       "       'PID_self_vs_1_tau1', 'PID_self_vs_2_tau1', 'PID_self_vs_4_tau1'],\n",
       "      dtype='object')"
      ]
     },
     "metadata": {},
     "output_type": "display_data"
    }
   ],
   "source": [
    "scanner = sig.scanner(batch_size=100_000)\n",
    "for batch in scanner.to_batches():\n",
    "    table = Table.from_batches([batch])\n",
    "    display(table.to_pandas().columns)\n",
    "    break\n",
    "del scanner"
   ]
  },
  {
   "cell_type": "code",
   "execution_count": 21,
   "id": "30801680",
   "metadata": {},
   "outputs": [
    {
     "data": {
      "text/plain": [
       "Index(['__experiment__', '__run__', '__event__', '__production__', 'pcm',\n",
       "       'ecm', 'missedE', 'recM2_Ups', 'cmpmiss', 'cmthetamiss', 'fox_ups',\n",
       "       'asymmetry', 'pBtag', 'theta_Btag', 'MBtag', 'rec_theta_Btag', 'idec0',\n",
       "       'idec1', 'is0', 'N_KL', 'Miss_id_0', 'Miss_id_1', 'Bs_lik', 'N_KS',\n",
       "       'theta_tau_0', 'p_tau_0', 'theta_tau_1', 'p_tau_1', 'p_tau_0_tagcm',\n",
       "       'p_tau_1_tagcm', 'ang_taus', 'ang_taus_tagcm', 'ang_tau0_pmiss',\n",
       "       'ang_tau1_pmiss', 'ang_tau1_ROE', 'ang_tau0_ROE', 'tau_d_0_0',\n",
       "       'tau_d_1_0', 'tau_last_z_0', 'tau_last_r_0', 'tau_last_z_1',\n",
       "       'tau_last_r_1', 'Istau0', 'Istau1', 'totalEnergyMC', 'E_gamma_in_ROE',\n",
       "       'correct_nu_0', 'correct_nu_1', 'correct_gamma_0', 'correct_gamma_1',\n",
       "       'lost_0', 'lost_1', 'PID_self_vs_0_tau0', 'PID_self_vs_1_tau0',\n",
       "       'PID_self_vs_2_tau0', 'PID_self_vs_4_tau0', 'PID_self_vs_0_tau1',\n",
       "       'PID_self_vs_1_tau1', 'PID_self_vs_2_tau1', 'PID_self_vs_4_tau1'],\n",
       "      dtype='object')"
      ]
     },
     "metadata": {},
     "output_type": "display_data"
    }
   ],
   "source": [
    "scanner = eff.scanner(batch_size=100_000)\n",
    "for batch in scanner.to_batches():\n",
    "    table = Table.from_batches([batch])\n",
    "    display(table.to_pandas().columns)\n",
    "    break\n",
    "del scanner"
   ]
  },
  {
   "cell_type": "code",
   "execution_count": 22,
   "id": "40c8f3ea",
   "metadata": {},
   "outputs": [
    {
     "name": "stderr",
     "output_type": "stream",
     "text": [
      "<>:1: SyntaxWarning: invalid escape sequence '\\m'\n",
      "<>:1: SyntaxWarning: invalid escape sequence '\\m'\n",
      "C:\\Users\\matve\\AppData\\Local\\Temp\\ipykernel_24276\\1924514660.py:1: SyntaxWarning: invalid escape sequence '\\m'\n",
      "  decay_mod_tau = [\"$e^+ \\\\nu_e \\\\bar \\\\nu_\\\\tau$\", \"$\\mu^+ \\\\nu_\\\\mu \\\\bar \\\\nu_\\\\tau$\", \"$\\\\pi^+ \\\\bar \\\\nu_\\\\tau$\", \"$\\\\rho^+ (\\\\pi^+ \\\\pi^0) \\\\bar \\\\nu_\\\\tau$\", \"$\\\\pi^+ \\\\pi^+ \\\\pi^- \\\\bar \\\\nu_\\\\tau$\", \"$\\\\rho^+ (\\\\pi^+ \\\\gamma) \\\\bar \\\\nu_\\\\tau$\"]\n"
     ]
    }
   ],
   "source": [
    "decay_mod_tau = [\"$e^+ \\\\nu_e \\\\bar \\\\nu_\\\\tau$\", \"$\\mu^+ \\\\nu_\\\\mu \\\\bar \\\\nu_\\\\tau$\", \"$\\\\pi^+ \\\\bar \\\\nu_\\\\tau$\", \"$\\\\rho^+ (\\\\pi^+ \\\\pi^0) \\\\bar \\\\nu_\\\\tau$\", \"$\\\\pi^+ \\\\pi^+ \\\\pi^- \\\\bar \\\\nu_\\\\tau$\", \"$\\\\rho^+ (\\\\pi^+ \\\\gamma) \\\\bar \\\\nu_\\\\tau$\"]\n",
    "mask = (pc.field(\"E_gamma_in_ROE\") < 1.2) & (pc.field(\"Bs_lik\") > 0.0012) & (pc.field(\"N_KS\") < 0.5)\n",
    "mask_is1 = pc.field(\"correct_nu_0\") & pc.field(\"correct_nu_1\") & pc.field(\"correct_gamma_0\") & pc.field(\"correct_gamma_1\") & pc.field(\"lost_0\") & pc.field(\"lost_1\") & pc.field(\"Miss_id_0\") & pc.field(\"Miss_id_1\")\n",
    "mask_is0 = pc.field(\"is0\") == 1\n",
    "mask_lep = ((pc.field(\"idec0\") == 0) | (pc.field(\"idec0\") == 1)) & ((pc.field(\"idec1\") == 0) | (pc.field(\"idec1\") == 1))"
   ]
  },
  {
   "cell_type": "code",
   "execution_count": 23,
   "id": "1c7c999b",
   "metadata": {},
   "outputs": [],
   "source": [
    "mask_sig = mask_lep & (pc.field(\"is0\") == 1) & mask & mask_is1\n",
    "mask_bkg = mask_lep & (pc.field(\"is0\") == 1) & mask "
   ]
  },
  {
   "cell_type": "code",
   "execution_count": 24,
   "id": "c999fc79",
   "metadata": {},
   "outputs": [
    {
     "name": "stderr",
     "output_type": "stream",
     "text": [
      "<>:1: SyntaxWarning: invalid escape sequence '\\m'\n",
      "<>:1: SyntaxWarning: invalid escape sequence '\\m'\n",
      "C:\\Users\\matve\\AppData\\Local\\Temp\\ipykernel_24276\\2663565434.py:1: SyntaxWarning: invalid escape sequence '\\m'\n",
      "  decay_mod_tau = [\"$e^+ \\\\nu_e \\\\bar \\\\nu_\\\\tau$\", \"$\\mu^+ \\\\nu_\\\\mu \\\\bar \\\\nu_\\\\tau$\", \"$\\\\pi^+ \\\\bar \\\\nu_\\\\tau$\", \"$\\\\rho^+ (\\\\pi^+ \\\\pi^0) \\\\bar \\\\nu_\\\\tau$\", \"$\\\\pi^+ \\\\pi^+ \\\\pi^- \\\\bar \\\\nu_\\\\tau$\", \"$\\\\rho^+ (\\\\pi^+ \\\\gamma) \\\\bar \\\\nu_\\\\tau$\"]\n"
     ]
    }
   ],
   "source": [
    "decay_mod_tau = [\"$e^+ \\\\nu_e \\\\bar \\\\nu_\\\\tau$\", \"$\\mu^+ \\\\nu_\\\\mu \\\\bar \\\\nu_\\\\tau$\", \"$\\\\pi^+ \\\\bar \\\\nu_\\\\tau$\", \"$\\\\rho^+ (\\\\pi^+ \\\\pi^0) \\\\bar \\\\nu_\\\\tau$\", \"$\\\\pi^+ \\\\pi^+ \\\\pi^- \\\\bar \\\\nu_\\\\tau$\", \"$\\\\rho^+ (\\\\pi^+ \\\\gamma) \\\\bar \\\\nu_\\\\tau$\"]\n",
    "mask = (pc.field(\"E_gamma_in_ROE\") < 1.2) & (pc.field(\"Bs_lik\") > 0.0012) & (pc.field(\"N_KS\") < 0.5)\n",
    "mask_is1 = pc.field(\"correct_nu_0\") & pc.field(\"correct_nu_1\") & pc.field(\"correct_gamma_0\") & pc.field(\"correct_gamma_1\") & pc.field(\"lost_0\") & pc.field(\"lost_1\") & pc.field(\"Miss_id_0\") & pc.field(\"Miss_id_1\")\n",
    "mask_is0 = pc.field(\"is0\") == 1"
   ]
  },
  {
   "cell_type": "code",
   "execution_count": 25,
   "id": "c8453cdc",
   "metadata": {},
   "outputs": [],
   "source": [
    "mask_lep = ((pc.field(\"idec0\") == 0) | (pc.field(\"idec0\") == 1)) & ((pc.field(\"idec1\") == 0) | (pc.field(\"idec1\") == 1))\n",
    "mask_pi = ((pc.field(\"idec0\") == 2) & (pc.field(\"idec0\") == 2))\n",
    "mask_rho = ((pc.field(\"idec0\") == 3) & (pc.field(\"idec0\") == 3))\n",
    "mask_pirho = ((pc.field(\"idec0\") == 2) & (pc.field(\"idec1\") == 3)) | ((pc.field(\"idec0\") == 3) & (pc.field(\"idec1\") == 2))\n",
    "mask_pi_lep = ((pc.field(\"idec0\") == 2)) & ((pc.field(\"idec1\") == 0) | (pc.field(\"idec1\") == 1)) | ((pc.field(\"idec0\") == 0) | (pc.field(\"idec0\") == 1)) & ((pc.field(\"idec1\") == 2)) \n",
    "mask_rho_lep = ((pc.field(\"idec0\") == 3)) & ((pc.field(\"idec1\") == 0) | (pc.field(\"idec1\") == 1)) | ((pc.field(\"idec0\") == 0) | (pc.field(\"idec0\") == 1)) & ((pc.field(\"idec1\") == 3))"
   ]
  },
  {
   "cell_type": "code",
   "execution_count": 26,
   "id": "21f766cc",
   "metadata": {},
   "outputs": [],
   "source": [
    "mask_sig = (pc.field(\"is0\") == 1) & mask & mask_is1"
   ]
  },
  {
   "cell_type": "code",
   "execution_count": 27,
   "id": "8f431df5",
   "metadata": {},
   "outputs": [
    {
     "name": "stderr",
     "output_type": "stream",
     "text": [
      "<>:1: SyntaxWarning: invalid escape sequence '\\m'\n",
      "<>:1: SyntaxWarning: invalid escape sequence '\\m'\n",
      "C:\\Users\\matve\\AppData\\Local\\Temp\\ipykernel_24276\\1033810642.py:1: SyntaxWarning: invalid escape sequence '\\m'\n",
      "  decay_mod_tau = [\"$e^+ \\\\nu_e \\\\bar \\\\nu_\\\\tau$\", \"$\\mu^+ \\\\nu_\\\\mu \\\\bar \\\\nu_\\\\tau$\", \"$\\\\pi^+ \\\\bar \\\\nu_\\\\tau$\", \"$\\\\rho^+ (\\\\pi^+ \\\\pi^0) \\\\bar \\\\nu_\\\\tau$\", \"$\\\\pi^+ \\\\pi^+ \\\\pi^- \\\\bar \\\\nu_\\\\tau$\", \"$\\\\rho^+ (\\\\pi^+ \\\\gamma) \\\\bar \\\\nu_\\\\tau$\"]\n"
     ]
    }
   ],
   "source": [
    "decay_mod_tau = [\"$e^+ \\\\nu_e \\\\bar \\\\nu_\\\\tau$\", \"$\\mu^+ \\\\nu_\\\\mu \\\\bar \\\\nu_\\\\tau$\", \"$\\\\pi^+ \\\\bar \\\\nu_\\\\tau$\", \"$\\\\rho^+ (\\\\pi^+ \\\\pi^0) \\\\bar \\\\nu_\\\\tau$\", \"$\\\\pi^+ \\\\pi^+ \\\\pi^- \\\\bar \\\\nu_\\\\tau$\", \"$\\\\rho^+ (\\\\pi^+ \\\\gamma) \\\\bar \\\\nu_\\\\tau$\"]"
   ]
  },
  {
   "cell_type": "code",
   "execution_count": 28,
   "id": "b78b9479",
   "metadata": {},
   "outputs": [],
   "source": [
    "mods_cut = {'lep': [mask_lep, 'lep', 'e / \\\\mu', 0.15, 0.025],\n",
    "        'pipi': [mask_pi, 'pirho', '\\\\pi \\\\pi', 0.15, 0.025],\n",
    "        'rhorho': [mask_rho, 'pirho', '\\\\rho \\\\rho', 0.15, 0.025],\n",
    "        'pirho': [mask_pirho, 'pirho', '\\\\pi \\\\rho', 0.15, 0.025],\n",
    "        'pilep': [mask_pi_lep, 'pirho_lep', '\\\\pi \\\\ell', 0.6, 0.15],\n",
    "        'rholep': [mask_rho_lep, 'pirho_lep', '\\\\rho \\\\ell', 0.2, 0.05],}"
   ]
  },
  {
   "cell_type": "code",
   "execution_count": 29,
   "id": "e4b8759f",
   "metadata": {},
   "outputs": [],
   "source": [
    "current_mod = 'rholep'"
   ]
  },
  {
   "cell_type": "code",
   "execution_count": 30,
   "id": "eb8a5c9b",
   "metadata": {},
   "outputs": [
    {
     "name": "stdout",
     "output_type": "stream",
     "text": [
      "Total data size: 0.01 MB\n"
     ]
    }
   ],
   "source": [
    "N = get_values(eff, ['idec0', 'idec1'], filter_mask=mask_sig & mods_cut[current_mod][0]).shape[0]"
   ]
  },
  {
   "cell_type": "code",
   "execution_count": 31,
   "id": "89dabd94",
   "metadata": {},
   "outputs": [
    {
     "name": "stdout",
     "output_type": "stream",
     "text": [
      "Файл 'results/data_rholep.json' обновлён или создан заново.\n"
     ]
    }
   ],
   "source": [
    "json_update(f\"results/data_{current_mod}.json\", {\"selection_eff\": float(N/14252586),})"
   ]
  },
  {
   "cell_type": "code",
   "execution_count": 32,
   "id": "de9542e3",
   "metadata": {},
   "outputs": [
    {
     "data": {
      "text/plain": [
       "14252586"
      ]
     },
     "execution_count": 32,
     "metadata": {},
     "output_type": "execute_result"
    }
   ],
   "source": [
    "14252586"
   ]
  }
 ],
 "metadata": {
  "kernelspec": {
   "display_name": ".venv",
   "language": "python",
   "name": "python3"
  },
  "language_info": {
   "codemirror_mode": {
    "name": "ipython",
    "version": 3
   },
   "file_extension": ".py",
   "mimetype": "text/x-python",
   "name": "python",
   "nbconvert_exporter": "python",
   "pygments_lexer": "ipython3",
   "version": "3.13.3"
  }
 },
 "nbformat": 4,
 "nbformat_minor": 5
}
