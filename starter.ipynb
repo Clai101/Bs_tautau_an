{
 "cells": [
  {
   "cell_type": "code",
   "execution_count": 2,
   "id": "113a6190",
   "metadata": {},
   "outputs": [],
   "source": [
    "import os, sys\n",
    "from pathlib import Path"
   ]
  },
  {
   "cell_type": "code",
   "execution_count": 3,
   "id": "a4f9ed6a",
   "metadata": {},
   "outputs": [],
   "source": [
    "mods_cut = ['lep', 'pipi', 'rhorho', 'pirho', 'pilep', 'rholep']\n"
   ]
  },
  {
   "cell_type": "code",
   "execution_count": 13,
   "id": "8937c7b6",
   "metadata": {},
   "outputs": [
    {
     "name": "stdout",
     "output_type": "stream",
     "text": [
      "bg.py 'lep' exited with: 0\n",
      "bg.py 'pipi' exited with: 0\n",
      "bg.py 'rhorho' exited with: 0\n",
      "bg.py 'pirho' exited with: 0\n",
      "bg.py 'pilep' exited with: 0\n",
      "bg.py 'rholep' exited with: 0\n"
     ]
    }
   ],
   "source": [
    "for i in mods_cut:\n",
    "    rc = os.spawnv(os.P_WAIT, sys.executable,\n",
    "               [sys.executable, str(\"bg.py\"), i])\n",
    "    print(f\"bg.py '{i}' exited with:\", rc)"
   ]
  },
  {
   "cell_type": "code",
   "execution_count": 14,
   "id": "91939a90",
   "metadata": {},
   "outputs": [
    {
     "name": "stdout",
     "output_type": "stream",
     "text": [
      "sig.py 'lep' exited with: 0\n",
      "sig.py 'pipi' exited with: 0\n",
      "sig.py 'rhorho' exited with: 0\n",
      "sig.py 'pirho' exited with: 0\n",
      "sig.py 'pilep' exited with: 0\n",
      "sig.py 'rholep' exited with: 0\n"
     ]
    }
   ],
   "source": [
    "for i in mods_cut:\n",
    "    rc = os.spawnv(os.P_WAIT, sys.executable,\n",
    "               [sys.executable, str(\"sig.py\"), i])\n",
    "    print(f\"sig.py '{i}' exited with:\", rc)"
   ]
  },
  {
   "cell_type": "code",
   "execution_count": 8,
   "id": "e7dbdc3b",
   "metadata": {},
   "outputs": [
    {
     "name": "stdout",
     "output_type": "stream",
     "text": [
      "com_sig_params.py 'lep' 'y' exited with: 0\n",
      "com_sig_params.py 'lep' 'n' exited with: 0\n",
      "com_sig_params.py 'pipi' 'y' exited with: 0\n",
      "com_sig_params.py 'pipi' 'n' exited with: 0\n",
      "com_sig_params.py 'rhorho' 'y' exited with: 0\n",
      "com_sig_params.py 'rhorho' 'n' exited with: 0\n",
      "com_sig_params.py 'pirho' 'y' exited with: 0\n",
      "com_sig_params.py 'pirho' 'n' exited with: 0\n",
      "com_sig_params.py 'pilep' 'y' exited with: 0\n",
      "com_sig_params.py 'pilep' 'n' exited with: 0\n",
      "com_sig_params.py 'rholep' 'y' exited with: 0\n",
      "com_sig_params.py 'rholep' 'n' exited with: 0\n"
     ]
    }
   ],
   "source": [
    "for i in mods_cut:\n",
    "    for j in ['y', 'n']:\n",
    "        rc = os.spawnv(os.P_WAIT, sys.executable,\n",
    "                   [sys.executable, str(\"com_sig_params.py\"), i, j])\n",
    "        print(f\"com_sig_params.py '{i}' '{j}' exited with:\", rc)\n"
   ]
  }
 ],
 "metadata": {
  "kernelspec": {
   "display_name": ".venv (3.13.3)",
   "language": "python",
   "name": "python3"
  },
  "language_info": {
   "codemirror_mode": {
    "name": "ipython",
    "version": 3
   },
   "file_extension": ".py",
   "mimetype": "text/x-python",
   "name": "python",
   "nbconvert_exporter": "python",
   "pygments_lexer": "ipython3",
   "version": "3.13.3"
  }
 },
 "nbformat": 4,
 "nbformat_minor": 5
}
