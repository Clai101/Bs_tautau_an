{
 "cells": [
  {
   "cell_type": "code",
   "execution_count": 1,
   "id": "dcb8cd60",
   "metadata": {},
   "outputs": [],
   "source": [
    "import pandas as pd\n",
    "import re\n",
    "\n",
    "# === Путь к твоим входным данным ===\n",
    "# Файл с shell-командами\n",
    "script_path = \"reconstruct_belle1_mc_hadron_y5s.sh\"\n",
    "\n",
    "# CSV или DataFrame с нужными экспериментами и ранами\n",
    "# Заменить на путь к реальному файлу, если требуется\n",
    "df = pd.read_csv(\"exp_run_list.csv\")  # должен содержать столбцы: 'experiment' и 'run'\n",
    "\n",
    "# === Считываем строки скрипта ===\n",
    "with open(script_path) as f:\n",
    "    lines = f.readlines()\n"
   ]
  },
  {
   "cell_type": "code",
   "execution_count": 2,
   "id": "f7e33b9b",
   "metadata": {},
   "outputs": [
    {
     "name": "stdout",
     "output_type": "stream",
     "text": [
      "⚠️ Строка пропущена (не распознана): #!/bin/bash\n",
      "⚠️ Строка пропущена (не распознана): \n",
      "⚠️ Строка пропущена (не распознана): TY=$1\n",
      "⚠️ Строка пропущена (не распознана): STREAM=$2\n",
      "⚠️ Строка пропущена (не распознана): TIME=$3\n",
      "⚠️ Строка пропущена (не распознана): \n",
      "⚠️ Строка пропущена (не распознана): #\n",
      "⚠️ Строка пропущена (не распознана): \n",
      "✅ Отобрано 87 команд из 1060. Результат сохранён в: filtered_script.sh\n"
     ]
    }
   ],
   "source": [
    "\n",
    "# === Парсим команды и извлекаем exp / run_start / run_end ===\n",
    "commands = []\n",
    "for line in lines:\n",
    "    match = re.match(r'\\S+\\s+(\\d+)\\s+(\\d+)\\s+(\\d+)', line)\n",
    "    if match:\n",
    "        exp = int(match.group(1))\n",
    "        run_start = int(match.group(2))\n",
    "        run_end = int(match.group(3))\n",
    "        commands.append({\n",
    "            \"line\": line.strip(),\n",
    "            \"exp\": exp,\n",
    "            \"run_start\": run_start,\n",
    "            \"run_end\": run_end\n",
    "        })\n",
    "    else:\n",
    "        print(f\"⚠️ Строка пропущена (не распознана): {line.strip()}\")\n",
    "\n",
    "# === Сопоставляем с DataFrame ===\n",
    "selected_lines = []\n",
    "\n",
    "for cmd in commands:\n",
    "    subset = df[df[\"__experiment__\"] == cmd[\"exp\"]]\n",
    "    if any((cmd[\"run_start\"] <= r <= cmd[\"run_end\"]) for r in subset[\"__run__\"]):\n",
    "        selected_lines.append(cmd[\"line\"])\n",
    "\n",
    "# === Записываем результат ===\n",
    "output_path = \"filtered_script.sh\"\n",
    "\n",
    "with open(output_path, \"w\") as f:\n",
    "    for line in selected_lines:\n",
    "        f.write(line + \"\\n\")\n",
    "\n",
    "print(f\"✅ Отобрано {len(selected_lines)} команд из {len(commands)}. Результат сохранён в: {output_path}\")\n"
   ]
  }
 ],
 "metadata": {
  "kernelspec": {
   "display_name": ".venv",
   "language": "python",
   "name": "python3"
  },
  "language_info": {
   "codemirror_mode": {
    "name": "ipython",
    "version": 3
   },
   "file_extension": ".py",
   "mimetype": "text/x-python",
   "name": "python",
   "nbconvert_exporter": "python",
   "pygments_lexer": "ipython3",
   "version": "3.13.3"
  }
 },
 "nbformat": 4,
 "nbformat_minor": 5
}
